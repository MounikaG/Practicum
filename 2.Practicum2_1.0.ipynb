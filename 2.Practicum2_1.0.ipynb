{
 "metadata": {
  "name": "",
  "signature": "sha256:a8b26c890d4063e0cc92e8c460e7cb9a9eb2ba0b2d3a74d7b74738eb7b0c9c90"
 },
 "nbformat": 3,
 "nbformat_minor": 0,
 "worksheets": [
  {
   "cells": [
    {
     "cell_type": "markdown",
     "metadata": {},
     "source": [
      "Practicum 2 | Diabetes Readmission | PGID : 71721055 (Santosh Vutukuri) | 71721006 (Mounika Gunturu)"
     ]
    },
    {
     "cell_type": "code",
     "collapsed": false,
     "input": [
      "import pandas as pd\n",
      "import numpy as np\n",
      "import matplotlib\n",
      "import seaborn as sns\n",
      "from sklearn.model_selection import train_test_split\n",
      "import matplotlib as mpl\n",
      "import matplotlib.pyplot as plt\n",
      "import seaborn as sns\n",
      "from sklearn.model_selection import cross_val_score\n",
      "from sklearn import tree\n",
      "from sklearn.model_selection import GridSearchCV\n",
      "from sklearn.decomposition import PCA\n",
      "from sklearn.metrics import accuracy_score\n",
      "from sklearn.ensemble import ExtraTreesClassifier"
     ],
     "language": "python",
     "metadata": {},
     "outputs": [],
     "prompt_number": 104
    },
    {
     "cell_type": "code",
     "collapsed": false,
     "input": [
      "df_raw_base = pd.read_csv(\"D:/CBA_Santosh_Vutukuri/T4_Practicum2/29_Sep_2018/diabetic_data_new.csv\")"
     ],
     "language": "python",
     "metadata": {},
     "outputs": [],
     "prompt_number": 2
    },
    {
     "cell_type": "code",
     "collapsed": false,
     "input": [
      "df_raw = df_raw_base[df_raw_base['Record_to_Remove']!=1]"
     ],
     "language": "python",
     "metadata": {},
     "outputs": [],
     "prompt_number": 3
    },
    {
     "cell_type": "code",
     "collapsed": false,
     "input": [
      "df_raw = df_raw.drop(['weight','payer_code','medical_specialty','examide','citoglipton','encounter_id','patient_nbr','readmitted','Record_to_Remove'],axis=1)"
     ],
     "language": "python",
     "metadata": {},
     "outputs": [],
     "prompt_number": 4
    },
    {
     "cell_type": "code",
     "collapsed": false,
     "input": [
      "df_raw.head()"
     ],
     "language": "python",
     "metadata": {},
     "outputs": [
      {
       "html": [
        "<div style=\"max-width:1500px;overflow:auto;\">\n",
        "<style>\n",
        "    .dataframe thead tr:only-child th {\n",
        "        text-align: right;\n",
        "    }\n",
        "\n",
        "    .dataframe thead th {\n",
        "        text-align: left;\n",
        "    }\n",
        "\n",
        "    .dataframe tbody tr th {\n",
        "        vertical-align: top;\n",
        "    }\n",
        "</style>\n",
        "<table border=\"1\" class=\"dataframe\">\n",
        "  <thead>\n",
        "    <tr style=\"text-align: right;\">\n",
        "      <th></th>\n",
        "      <th>race</th>\n",
        "      <th>gender</th>\n",
        "      <th>age</th>\n",
        "      <th>admission_type_id</th>\n",
        "      <th>discharge_disposition_id</th>\n",
        "      <th>admission_source_id</th>\n",
        "      <th>time_in_hospital</th>\n",
        "      <th>num_lab_procedures</th>\n",
        "      <th>num_procedures</th>\n",
        "      <th>num_medications</th>\n",
        "      <th>...</th>\n",
        "      <th>tolazamide</th>\n",
        "      <th>insulin</th>\n",
        "      <th>glyburide-metformin</th>\n",
        "      <th>glipizide-metformin</th>\n",
        "      <th>glimepiride-pioglitazone</th>\n",
        "      <th>metformin-rosiglitazone</th>\n",
        "      <th>metformin-pioglitazone</th>\n",
        "      <th>change</th>\n",
        "      <th>diabetesMed</th>\n",
        "      <th>readmitted_dummy</th>\n",
        "    </tr>\n",
        "  </thead>\n",
        "  <tbody>\n",
        "    <tr>\n",
        "      <th>1</th>\n",
        "      <td>Caucasian</td>\n",
        "      <td>Female</td>\n",
        "      <td>[10-20)</td>\n",
        "      <td>1</td>\n",
        "      <td>1</td>\n",
        "      <td>7</td>\n",
        "      <td>3</td>\n",
        "      <td>59</td>\n",
        "      <td>0</td>\n",
        "      <td>18</td>\n",
        "      <td>...</td>\n",
        "      <td>No</td>\n",
        "      <td>Up</td>\n",
        "      <td>No</td>\n",
        "      <td>No</td>\n",
        "      <td>No</td>\n",
        "      <td>No</td>\n",
        "      <td>No</td>\n",
        "      <td>Ch</td>\n",
        "      <td>Yes</td>\n",
        "      <td>G30</td>\n",
        "    </tr>\n",
        "    <tr>\n",
        "      <th>2</th>\n",
        "      <td>AfricanAmerican</td>\n",
        "      <td>Female</td>\n",
        "      <td>[20-30)</td>\n",
        "      <td>1</td>\n",
        "      <td>1</td>\n",
        "      <td>7</td>\n",
        "      <td>2</td>\n",
        "      <td>11</td>\n",
        "      <td>5</td>\n",
        "      <td>13</td>\n",
        "      <td>...</td>\n",
        "      <td>No</td>\n",
        "      <td>No</td>\n",
        "      <td>No</td>\n",
        "      <td>No</td>\n",
        "      <td>No</td>\n",
        "      <td>No</td>\n",
        "      <td>No</td>\n",
        "      <td>No</td>\n",
        "      <td>Yes</td>\n",
        "      <td>No</td>\n",
        "    </tr>\n",
        "    <tr>\n",
        "      <th>3</th>\n",
        "      <td>Caucasian</td>\n",
        "      <td>Male</td>\n",
        "      <td>[30-40)</td>\n",
        "      <td>1</td>\n",
        "      <td>1</td>\n",
        "      <td>7</td>\n",
        "      <td>2</td>\n",
        "      <td>44</td>\n",
        "      <td>1</td>\n",
        "      <td>16</td>\n",
        "      <td>...</td>\n",
        "      <td>No</td>\n",
        "      <td>Up</td>\n",
        "      <td>No</td>\n",
        "      <td>No</td>\n",
        "      <td>No</td>\n",
        "      <td>No</td>\n",
        "      <td>No</td>\n",
        "      <td>Ch</td>\n",
        "      <td>Yes</td>\n",
        "      <td>No</td>\n",
        "    </tr>\n",
        "    <tr>\n",
        "      <th>4</th>\n",
        "      <td>Caucasian</td>\n",
        "      <td>Male</td>\n",
        "      <td>[40-50)</td>\n",
        "      <td>1</td>\n",
        "      <td>1</td>\n",
        "      <td>7</td>\n",
        "      <td>1</td>\n",
        "      <td>51</td>\n",
        "      <td>0</td>\n",
        "      <td>8</td>\n",
        "      <td>...</td>\n",
        "      <td>No</td>\n",
        "      <td>Steady</td>\n",
        "      <td>No</td>\n",
        "      <td>No</td>\n",
        "      <td>No</td>\n",
        "      <td>No</td>\n",
        "      <td>No</td>\n",
        "      <td>Ch</td>\n",
        "      <td>Yes</td>\n",
        "      <td>No</td>\n",
        "    </tr>\n",
        "    <tr>\n",
        "      <th>5</th>\n",
        "      <td>Caucasian</td>\n",
        "      <td>Male</td>\n",
        "      <td>[50-60)</td>\n",
        "      <td>2</td>\n",
        "      <td>1</td>\n",
        "      <td>2</td>\n",
        "      <td>3</td>\n",
        "      <td>31</td>\n",
        "      <td>6</td>\n",
        "      <td>16</td>\n",
        "      <td>...</td>\n",
        "      <td>No</td>\n",
        "      <td>Steady</td>\n",
        "      <td>No</td>\n",
        "      <td>No</td>\n",
        "      <td>No</td>\n",
        "      <td>No</td>\n",
        "      <td>No</td>\n",
        "      <td>No</td>\n",
        "      <td>Yes</td>\n",
        "      <td>G30</td>\n",
        "    </tr>\n",
        "  </tbody>\n",
        "</table>\n",
        "<p>5 rows \u00d7 43 columns</p>\n",
        "</div>"
       ],
       "metadata": {},
       "output_type": "pyout",
       "prompt_number": 6,
       "text": [
        "              race  gender      age  admission_type_id  \\\n",
        "1        Caucasian  Female  [10-20)                  1   \n",
        "2  AfricanAmerican  Female  [20-30)                  1   \n",
        "3        Caucasian    Male  [30-40)                  1   \n",
        "4        Caucasian    Male  [40-50)                  1   \n",
        "5        Caucasian    Male  [50-60)                  2   \n",
        "\n",
        "   discharge_disposition_id  admission_source_id  time_in_hospital  \\\n",
        "1                         1                    7                 3   \n",
        "2                         1                    7                 2   \n",
        "3                         1                    7                 2   \n",
        "4                         1                    7                 1   \n",
        "5                         1                    2                 3   \n",
        "\n",
        "   num_lab_procedures  num_procedures  num_medications       ...         \\\n",
        "1                  59               0               18       ...          \n",
        "2                  11               5               13       ...          \n",
        "3                  44               1               16       ...          \n",
        "4                  51               0                8       ...          \n",
        "5                  31               6               16       ...          \n",
        "\n",
        "   tolazamide  insulin  glyburide-metformin glipizide-metformin  \\\n",
        "1          No       Up                   No                  No   \n",
        "2          No       No                   No                  No   \n",
        "3          No       Up                   No                  No   \n",
        "4          No   Steady                   No                  No   \n",
        "5          No   Steady                   No                  No   \n",
        "\n",
        "  glimepiride-pioglitazone metformin-rosiglitazone  metformin-pioglitazone  \\\n",
        "1                       No                      No                      No   \n",
        "2                       No                      No                      No   \n",
        "3                       No                      No                      No   \n",
        "4                       No                      No                      No   \n",
        "5                       No                      No                      No   \n",
        "\n",
        "  change diabetesMed readmitted_dummy  \n",
        "1     Ch         Yes              G30  \n",
        "2     No         Yes               No  \n",
        "3     Ch         Yes               No  \n",
        "4     Ch         Yes               No  \n",
        "5     No         Yes              G30  \n",
        "\n",
        "[5 rows x 43 columns]"
       ]
      }
     ],
     "prompt_number": 6
    },
    {
     "cell_type": "code",
     "collapsed": false,
     "input": [
      "#df_raw['encounter_id'] = df_raw['encounter_id'].astype('|S')\n",
      "#df_raw['patient_nbr'] = df_raw['patient_nbr'].astype('|S')\n",
      "df_raw['admission_type_id'] = df_raw['admission_type_id'].astype('|S')\n",
      "df_raw['discharge_disposition_id'] = df_raw['discharge_disposition_id'].astype('|S')\n",
      "df_raw['admission_source_id'] = df_raw['admission_source_id'].astype('|S')"
     ],
     "language": "python",
     "metadata": {},
     "outputs": [],
     "prompt_number": 9
    },
    {
     "cell_type": "code",
     "collapsed": false,
     "input": [
      "# Describing Numerical Variables\n",
      "\n",
      "fig, axes = pyplot.subplots(nrows=2,ncols=4)\n",
      "ax0, ax1, ax2, ax3, ax4, ax5, ax6, ax7 = axes.flatten()\n",
      "\n",
      "ax0.hist(df_raw.time_in_hospital,20,color='Blue')\n",
      "ax0.set_title('Time_In_Hospital')\n",
      "\n",
      "ax1.hist(df_raw.num_lab_procedures,20,color='Blue')\n",
      "ax1.set_title('Num_Lab_Procedures')\n",
      "\n",
      "ax2.hist(df_raw.num_procedures,20,color='Blue')\n",
      "ax2.set_title('Num_Procedures')\n",
      "\n",
      "ax3.hist(df_raw.num_medications,20,color='Blue')\n",
      "ax3.set_title('Num_Medications')\n",
      "\n",
      "ax4.hist(df_raw.number_outpatient,20,color='Blue')\n",
      "ax4.set_title('Num_Outpatient_Visits')\n",
      "\n",
      "ax5.hist(df_raw.number_inpatient,20,color='Blue')\n",
      "ax5.set_title('Num_Inpatient_Visits')\n",
      "\n",
      "ax6.hist(df_raw.number_emergency,20,color='Blue')\n",
      "ax6.set_title('Num_Emergency_Visits')\n",
      "\n",
      "ax7.hist(df_raw.number_diagnoses,20,color='Blue')\n",
      "ax7.set_title('Num_Diagnosis')\n",
      "\n",
      "fig.tight_layout()\n",
      "fig.set_size_inches(10,7)\n",
      "#fig.savefig('Q1b_Output', dpi=100)"
     ],
     "language": "python",
     "metadata": {},
     "outputs": [
      {
       "metadata": {},
       "output_type": "display_data",
       "png": "[encoded data removed]",
       "text": [
        "<matplotlib.figure.Figure at 0x1069a7b8>"
       ]
      }
     ],
     "prompt_number": 16
    },
    {
     "cell_type": "code",
     "collapsed": false,
     "input": [
      "fig, axes = pyplot.subplots(nrows=4,ncols=3)\n",
      "ax0, ax1, ax2, ax3, ax4, ax5, ax6, ax7, ax8, ax9, ax10, ax11 = axes.flatten()\n",
      "\n",
      "sns.countplot(df_raw.readmitted_dummy, ax = ax0)\n",
      "sns.countplot(df_raw.change, ax = ax1)\n",
      "sns.countplot(df_raw.diabetesMed, ax = ax2)\n",
      "\n",
      "sns.countplot(df_raw.race, ax = ax3)\n",
      "sns.countplot(df_raw.gender, ax = ax4)\n",
      "sns.countplot(df_raw.age, ax = ax5)\n",
      "\n",
      "sns.countplot(df_raw.admission_type_id, ax = ax6)\n",
      "sns.countplot(df_raw.discharge_disposition_id, ax = ax7)\n",
      "sns.countplot(df_raw.admission_source_id, ax = ax8)\n",
      "\n",
      "sns.countplot(df_raw.diag_1, ax = ax9)\n",
      "sns.countplot(df_raw.diag_2, ax = ax10)\n",
      "sns.countplot(df_raw.diag_3, ax = ax11)\n",
      "\n",
      "fig.tight_layout()\n",
      "fig.set_size_inches(20,10)"
     ],
     "language": "python",
     "metadata": {},
     "outputs": [
      {
       "metadata": {},
       "output_type": "display_data",
       "png": "[encoded data removed]",
       "text": [
        "<matplotlib.figure.Figure at 0xb168550>"
       ]
      }
     ],
     "prompt_number": 18
    },
    {
     "cell_type": "code",
     "collapsed": false,
     "input": [
      "df_raw.shape"
     ],
     "language": "python",
     "metadata": {},
     "outputs": [
      {
       "metadata": {},
       "output_type": "pyout",
       "prompt_number": 19,
       "text": [
        "(98052, 43)"
       ]
      }
     ],
     "prompt_number": 19
    },
    {
     "cell_type": "markdown",
     "metadata": {},
     "source": [
      "PCA and Models"
     ]
    },
    {
     "cell_type": "code",
     "collapsed": false,
     "input": [
      "y = df_raw['readmitted_dummy']\n",
      "x = df_raw.drop(['readmitted_dummy'], axis=1)\n",
      "x = pd.get_dummies(x)\n",
      "y = pd.get_dummies(y)"
     ],
     "language": "python",
     "metadata": {},
     "outputs": [],
     "prompt_number": 74
    },
    {
     "cell_type": "code",
     "collapsed": false,
     "input": [
      "PCA_10 = PCA(n_components = 10)"
     ],
     "language": "python",
     "metadata": {},
     "outputs": [],
     "prompt_number": 76
    },
    {
     "cell_type": "code",
     "collapsed": false,
     "input": [
      "PCA_10.fit = PCA_10.fit_transform(x.values)"
     ],
     "language": "python",
     "metadata": {},
     "outputs": [],
     "prompt_number": 77
    },
    {
     "cell_type": "code",
     "collapsed": false,
     "input": [
      "PCA_10.explained_variance_ratio_"
     ],
     "language": "python",
     "metadata": {},
     "outputs": [
      {
       "metadata": {},
       "output_type": "pyout",
       "prompt_number": 78,
       "text": [
        "array([ 0.81819965,  0.12889198,  0.01360362,  0.00669942,  0.00526281,\n",
        "        0.00367313,  0.00307103,  0.00168947,  0.0015627 ,  0.00112424])"
       ]
      }
     ],
     "prompt_number": 78
    },
    {
     "cell_type": "code",
     "collapsed": false,
     "input": [
      "x['pca-one'] = PCA_10.fit[:,0]\n",
      "x['pca-two'] = PCA_10.fit[:,1]\n",
      "x['pca-three'] = PCA_10.fit[:,2]\n",
      "x['pca-four'] = PCA_10.fit[:,3]"
     ],
     "language": "python",
     "metadata": {},
     "outputs": [],
     "prompt_number": 79
    },
    {
     "cell_type": "code",
     "collapsed": false,
     "input": [
      "y = df_raw['readmitted_dummy']"
     ],
     "language": "python",
     "metadata": {},
     "outputs": [],
     "prompt_number": 80
    },
    {
     "cell_type": "code",
     "collapsed": false,
     "input": [
      "d = {'col1': np.array(x['pca-one']), 'col2': np.array(x['pca-two']), 'col3':np.array(x['pca-three']), 'col4':np.array(x['pca-four']), 'label':np.array(y)}"
     ],
     "language": "python",
     "metadata": {},
     "outputs": [],
     "prompt_number": 89
    },
    {
     "cell_type": "code",
     "collapsed": false,
     "input": [
      "dia_pca = pd.DataFrame(d)"
     ],
     "language": "python",
     "metadata": {},
     "outputs": [],
     "prompt_number": 90
    },
    {
     "cell_type": "code",
     "collapsed": false,
     "input": [
      "dia_pca.head()"
     ],
     "language": "python",
     "metadata": {},
     "outputs": [
      {
       "html": [
        "<div style=\"max-width:1500px;overflow:auto;\">\n",
        "<style>\n",
        "    .dataframe thead tr:only-child th {\n",
        "        text-align: right;\n",
        "    }\n",
        "\n",
        "    .dataframe thead th {\n",
        "        text-align: left;\n",
        "    }\n",
        "\n",
        "    .dataframe tbody tr th {\n",
        "        vertical-align: top;\n",
        "    }\n",
        "</style>\n",
        "<table border=\"1\" class=\"dataframe\">\n",
        "  <thead>\n",
        "    <tr style=\"text-align: right;\">\n",
        "      <th></th>\n",
        "      <th>col1</th>\n",
        "      <th>col2</th>\n",
        "      <th>col3</th>\n",
        "      <th>col4</th>\n",
        "      <th>label</th>\n",
        "    </tr>\n",
        "  </thead>\n",
        "  <tbody>\n",
        "    <tr>\n",
        "      <th>0</th>\n",
        "      <td>15.883773</td>\n",
        "      <td>-0.628339</td>\n",
        "      <td>-2.053924</td>\n",
        "      <td>1.663349</td>\n",
        "      <td>G30</td>\n",
        "    </tr>\n",
        "    <tr>\n",
        "      <th>1</th>\n",
        "      <td>-32.349894</td>\n",
        "      <td>1.222563</td>\n",
        "      <td>-1.042982</td>\n",
        "      <td>-1.503532</td>\n",
        "      <td>No</td>\n",
        "    </tr>\n",
        "    <tr>\n",
        "      <th>2</th>\n",
        "      <td>0.699870</td>\n",
        "      <td>-0.678925</td>\n",
        "      <td>-2.466777</td>\n",
        "      <td>-0.197233</td>\n",
        "      <td>No</td>\n",
        "    </tr>\n",
        "    <tr>\n",
        "      <th>3</th>\n",
        "      <td>6.492041</td>\n",
        "      <td>-9.764559</td>\n",
        "      <td>-2.550519</td>\n",
        "      <td>-1.701070</td>\n",
        "      <td>No</td>\n",
        "    </tr>\n",
        "    <tr>\n",
        "      <th>4</th>\n",
        "      <td>-12.070608</td>\n",
        "      <td>1.791929</td>\n",
        "      <td>-0.893405</td>\n",
        "      <td>0.127183</td>\n",
        "      <td>G30</td>\n",
        "    </tr>\n",
        "  </tbody>\n",
        "</table>\n",
        "</div>"
       ],
       "metadata": {},
       "output_type": "pyout",
       "prompt_number": 91,
       "text": [
        "        col1      col2      col3      col4 label\n",
        "0  15.883773 -0.628339 -2.053924  1.663349   G30\n",
        "1 -32.349894  1.222563 -1.042982 -1.503532    No\n",
        "2   0.699870 -0.678925 -2.466777 -0.197233    No\n",
        "3   6.492041 -9.764559 -2.550519 -1.701070    No\n",
        "4 -12.070608  1.791929 -0.893405  0.127183   G30"
       ]
      }
     ],
     "prompt_number": 91
    },
    {
     "cell_type": "code",
     "collapsed": false,
     "input": [
      "tr = tree.DecisionTreeClassifier()"
     ],
     "language": "python",
     "metadata": {},
     "outputs": [],
     "prompt_number": 92
    },
    {
     "cell_type": "code",
     "collapsed": false,
     "input": [
      "y = dia_pca['label']\n",
      "x = dia_pca.drop(['label'], axis=1)\n",
      "X_train, X_test, y_train, y_test = train_test_split(x, y, test_size=0.2, random_state=2)"
     ],
     "language": "python",
     "metadata": {},
     "outputs": [],
     "prompt_number": 93
    },
    {
     "cell_type": "code",
     "collapsed": false,
     "input": [
      "tr.fit(X_train,y_train)"
     ],
     "language": "python",
     "metadata": {},
     "outputs": [
      {
       "metadata": {},
       "output_type": "pyout",
       "prompt_number": 102,
       "text": [
        "DecisionTreeClassifier(class_weight=None, criterion='gini', max_depth=None,\n",
        "            max_features=None, max_leaf_nodes=None,\n",
        "            min_impurity_decrease=0.0, min_impurity_split=None,\n",
        "            min_samples_leaf=1, min_samples_split=2,\n",
        "            min_weight_fraction_leaf=0.0, presort=False, random_state=None,\n",
        "            splitter='best')"
       ]
      }
     ],
     "prompt_number": 102
    },
    {
     "cell_type": "code",
     "collapsed": false,
     "input": [
      "y_predict = tr.predict(X_test)\n",
      "print(\"Accuracy is {0:.2f}\".format(accuracy_score(y_test, y_predict)))"
     ],
     "language": "python",
     "metadata": {},
     "outputs": [
      {
       "output_type": "stream",
       "stream": "stdout",
       "text": [
        "Accuracy is 0.44\n"
       ]
      }
     ],
     "prompt_number": 103
    },
    {
     "cell_type": "code",
     "collapsed": false,
     "input": [
      "forest = ExtraTreesClassifier(n_estimators=250,random_state=0)"
     ],
     "language": "python",
     "metadata": {},
     "outputs": [],
     "prompt_number": 105
    },
    {
     "cell_type": "code",
     "collapsed": false,
     "input": [
      "forest.fit(X_train, y_train)"
     ],
     "language": "python",
     "metadata": {},
     "outputs": [
      {
       "metadata": {},
       "output_type": "pyout",
       "prompt_number": 106,
       "text": [
        "ExtraTreesClassifier(bootstrap=False, class_weight=None, criterion='gini',\n",
        "           max_depth=None, max_features='auto', max_leaf_nodes=None,\n",
        "           min_impurity_decrease=0.0, min_impurity_split=None,\n",
        "           min_samples_leaf=1, min_samples_split=2,\n",
        "           min_weight_fraction_leaf=0.0, n_estimators=250, n_jobs=1,\n",
        "           oob_score=False, random_state=0, verbose=0, warm_start=False)"
       ]
      }
     ],
     "prompt_number": 106
    },
    {
     "cell_type": "code",
     "collapsed": false,
     "input": [
      "importances = forest.feature_importances_"
     ],
     "language": "python",
     "metadata": {},
     "outputs": [],
     "prompt_number": 107
    },
    {
     "cell_type": "code",
     "collapsed": false,
     "input": [
      "std = np.std([tree.feature_importances_ for tree in forest.estimators_],\n",
      "             axis=0)\n",
      "indices = np.argsort(importances)[::-1]"
     ],
     "language": "python",
     "metadata": {},
     "outputs": [],
     "prompt_number": 108
    },
    {
     "cell_type": "code",
     "collapsed": false,
     "input": [
      "print(\"Feature ranking:\")\n",
      "\n",
      "for f in range(X_train.shape[1]):\n",
      "    print(\"%d. col %d (%f)\" % (f + 1, indices[f]+1, importances[indices[f]]))"
     ],
     "language": "python",
     "metadata": {},
     "outputs": [
      {
       "output_type": "stream",
       "stream": "stdout",
       "text": [
        "Feature ranking:\n",
        "1. col 4 (0.264470)\n",
        "2. col 2 (0.247115)\n",
        "3. col 3 (0.244977)\n",
        "4. col 1 (0.243438)\n"
       ]
      }
     ],
     "prompt_number": 114
    },
    {
     "cell_type": "code",
     "collapsed": false,
     "input": [
      "# Plot the feature importances of the forest\n",
      "plt.figure()\n",
      "plt.title(\"Feature importances\")\n",
      "plt.bar(range(X_train.shape[1]), importances[indices],\n",
      "       color=\"r\", yerr=std[indices], align=\"center\")\n",
      "plt.xticks(range(X_train.shape[1]), indices)\n",
      "plt.xlim([-1, X_train.shape[1]])\n",
      "plt.show()"
     ],
     "language": "python",
     "metadata": {},
     "outputs": [
      {
       "metadata": {},
       "output_type": "display_data",
       "png": "[encoded data removed]",
       "text": [
        "<matplotlib.figure.Figure at 0xafcc588>"
       ]
      }
     ],
     "prompt_number": 115
    },
    {
     "cell_type": "code",
     "collapsed": false,
     "input": [
      "y_predict = forest.predict(X_test)\n",
      "print(\"Accuracy is {0:.2f}\".format(accuracy_score(y_test, y_predict)))"
     ],
     "language": "python",
     "metadata": {},
     "outputs": [
      {
       "output_type": "stream",
       "stream": "stdout",
       "text": [
        "Accuracy is 0.50\n"
       ]
      }
     ],
     "prompt_number": 111
    },
    {
     "cell_type": "markdown",
     "metadata": {},
     "source": [
      "Approach 2 : Encoding and Modelling"
     ]
    },
    {
     "cell_type": "code",
     "collapsed": false,
     "input": [
      "df_final = pd.read_csv(\"D:/CBA_Santosh_Vutukuri/T4_Practicum2/29_Sep_2018/All_Categorical_Numerical_Code.csv\")"
     ],
     "language": "python",
     "metadata": {},
     "outputs": [],
     "prompt_number": 117
    },
    {
     "cell_type": "code",
     "collapsed": false,
     "input": [
      "df_final.shape"
     ],
     "language": "python",
     "metadata": {},
     "outputs": [
      {
       "metadata": {},
       "output_type": "pyout",
       "prompt_number": 118,
       "text": [
        "(98052, 51)"
       ]
      }
     ],
     "prompt_number": 118
    },
    {
     "cell_type": "code",
     "collapsed": false,
     "input": [
      "df_final = df_final.drop(['time_in_hospital','num_lab_procedures','num_procedures','num_medications','number_outpatient','number_inpatient','number_emergency','number_diagnoses'],axis=1)"
     ],
     "language": "python",
     "metadata": {},
     "outputs": [],
     "prompt_number": 119
    },
    {
     "cell_type": "code",
     "collapsed": false,
     "input": [
      "df_final.shape[1]"
     ],
     "language": "python",
     "metadata": {},
     "outputs": [
      {
       "metadata": {},
       "output_type": "pyout",
       "prompt_number": 120,
       "text": [
        "43"
       ]
      }
     ],
     "prompt_number": 120
    },
    {
     "cell_type": "code",
     "collapsed": false,
     "input": [
      "df_final.head()"
     ],
     "language": "python",
     "metadata": {},
     "outputs": [
      {
       "html": [
        "<div style=\"max-width:1500px;overflow:auto;\">\n",
        "<style>\n",
        "    .dataframe thead tr:only-child th {\n",
        "        text-align: right;\n",
        "    }\n",
        "\n",
        "    .dataframe thead th {\n",
        "        text-align: left;\n",
        "    }\n",
        "\n",
        "    .dataframe tbody tr th {\n",
        "        vertical-align: top;\n",
        "    }\n",
        "</style>\n",
        "<table border=\"1\" class=\"dataframe\">\n",
        "  <thead>\n",
        "    <tr style=\"text-align: right;\">\n",
        "      <th></th>\n",
        "      <th>race</th>\n",
        "      <th>gender</th>\n",
        "      <th>age</th>\n",
        "      <th>admission_type_id</th>\n",
        "      <th>discharge_disposition_id</th>\n",
        "      <th>admission_source_id</th>\n",
        "      <th>diag_1</th>\n",
        "      <th>diag_2</th>\n",
        "      <th>diag_3</th>\n",
        "      <th>max_glu_serum</th>\n",
        "      <th>...</th>\n",
        "      <th>diabetesMed</th>\n",
        "      <th>readmitted_dummy</th>\n",
        "      <th>A1</th>\n",
        "      <th>A2</th>\n",
        "      <th>A3</th>\n",
        "      <th>A4</th>\n",
        "      <th>A5</th>\n",
        "      <th>A6</th>\n",
        "      <th>A7</th>\n",
        "      <th>A8</th>\n",
        "    </tr>\n",
        "  </thead>\n",
        "  <tbody>\n",
        "    <tr>\n",
        "      <th>0</th>\n",
        "      <td>0</td>\n",
        "      <td>1</td>\n",
        "      <td>5</td>\n",
        "      <td>1</td>\n",
        "      <td>1</td>\n",
        "      <td>1</td>\n",
        "      <td>5</td>\n",
        "      <td>4</td>\n",
        "      <td>5</td>\n",
        "      <td>0</td>\n",
        "      <td>...</td>\n",
        "      <td>1</td>\n",
        "      <td>1</td>\n",
        "      <td>3</td>\n",
        "      <td>59</td>\n",
        "      <td>0</td>\n",
        "      <td>18</td>\n",
        "      <td>0</td>\n",
        "      <td>0</td>\n",
        "      <td>0</td>\n",
        "      <td>9</td>\n",
        "    </tr>\n",
        "    <tr>\n",
        "      <th>1</th>\n",
        "      <td>1</td>\n",
        "      <td>1</td>\n",
        "      <td>5</td>\n",
        "      <td>1</td>\n",
        "      <td>1</td>\n",
        "      <td>1</td>\n",
        "      <td>7</td>\n",
        "      <td>1</td>\n",
        "      <td>5</td>\n",
        "      <td>0</td>\n",
        "      <td>...</td>\n",
        "      <td>1</td>\n",
        "      <td>0</td>\n",
        "      <td>2</td>\n",
        "      <td>11</td>\n",
        "      <td>5</td>\n",
        "      <td>13</td>\n",
        "      <td>2</td>\n",
        "      <td>0</td>\n",
        "      <td>1</td>\n",
        "      <td>6</td>\n",
        "    </tr>\n",
        "    <tr>\n",
        "      <th>2</th>\n",
        "      <td>0</td>\n",
        "      <td>0</td>\n",
        "      <td>4</td>\n",
        "      <td>1</td>\n",
        "      <td>1</td>\n",
        "      <td>1</td>\n",
        "      <td>6</td>\n",
        "      <td>5</td>\n",
        "      <td>3</td>\n",
        "      <td>0</td>\n",
        "      <td>...</td>\n",
        "      <td>1</td>\n",
        "      <td>0</td>\n",
        "      <td>2</td>\n",
        "      <td>44</td>\n",
        "      <td>1</td>\n",
        "      <td>16</td>\n",
        "      <td>0</td>\n",
        "      <td>0</td>\n",
        "      <td>0</td>\n",
        "      <td>7</td>\n",
        "    </tr>\n",
        "    <tr>\n",
        "      <th>3</th>\n",
        "      <td>0</td>\n",
        "      <td>0</td>\n",
        "      <td>4</td>\n",
        "      <td>1</td>\n",
        "      <td>1</td>\n",
        "      <td>1</td>\n",
        "      <td>7</td>\n",
        "      <td>5</td>\n",
        "      <td>1</td>\n",
        "      <td>0</td>\n",
        "      <td>...</td>\n",
        "      <td>1</td>\n",
        "      <td>0</td>\n",
        "      <td>1</td>\n",
        "      <td>51</td>\n",
        "      <td>0</td>\n",
        "      <td>8</td>\n",
        "      <td>0</td>\n",
        "      <td>0</td>\n",
        "      <td>0</td>\n",
        "      <td>5</td>\n",
        "    </tr>\n",
        "    <tr>\n",
        "      <th>4</th>\n",
        "      <td>0</td>\n",
        "      <td>0</td>\n",
        "      <td>3</td>\n",
        "      <td>2</td>\n",
        "      <td>1</td>\n",
        "      <td>2</td>\n",
        "      <td>2</td>\n",
        "      <td>3</td>\n",
        "      <td>1</td>\n",
        "      <td>0</td>\n",
        "      <td>...</td>\n",
        "      <td>1</td>\n",
        "      <td>1</td>\n",
        "      <td>3</td>\n",
        "      <td>31</td>\n",
        "      <td>6</td>\n",
        "      <td>16</td>\n",
        "      <td>0</td>\n",
        "      <td>0</td>\n",
        "      <td>0</td>\n",
        "      <td>9</td>\n",
        "    </tr>\n",
        "  </tbody>\n",
        "</table>\n",
        "<p>5 rows \u00d7 43 columns</p>\n",
        "</div>"
       ],
       "metadata": {},
       "output_type": "pyout",
       "prompt_number": 121,
       "text": [
        "   race  gender  age  admission_type_id  discharge_disposition_id  \\\n",
        "0     0       1    5                  1                         1   \n",
        "1     1       1    5                  1                         1   \n",
        "2     0       0    4                  1                         1   \n",
        "3     0       0    4                  1                         1   \n",
        "4     0       0    3                  2                         1   \n",
        "\n",
        "   admission_source_id  diag_1  diag_2  diag_3  max_glu_serum ...  \\\n",
        "0                    1       5       4       5              0 ...   \n",
        "1                    1       7       1       5              0 ...   \n",
        "2                    1       6       5       3              0 ...   \n",
        "3                    1       7       5       1              0 ...   \n",
        "4                    2       2       3       1              0 ...   \n",
        "\n",
        "   diabetesMed  readmitted_dummy  A1  A2  A3  A4  A5  A6  A7  A8  \n",
        "0            1                 1   3  59   0  18   0   0   0   9  \n",
        "1            1                 0   2  11   5  13   2   0   1   6  \n",
        "2            1                 0   2  44   1  16   0   0   0   7  \n",
        "3            1                 0   1  51   0   8   0   0   0   5  \n",
        "4            1                 1   3  31   6  16   0   0   0   9  \n",
        "\n",
        "[5 rows x 43 columns]"
       ]
      }
     ],
     "prompt_number": 121
    },
    {
     "cell_type": "code",
     "collapsed": false,
     "input": [
      "df_final.info()"
     ],
     "language": "python",
     "metadata": {},
     "outputs": [
      {
       "output_type": "stream",
       "stream": "stdout",
       "text": [
        "<class 'pandas.core.frame.DataFrame'>\n",
        "RangeIndex: 98052 entries, 0 to 98051\n",
        "Data columns (total 43 columns):\n",
        "race                        98052 non-null int64\n",
        "gender                      98052 non-null int64\n",
        "age                         98052 non-null int64\n",
        "admission_type_id           98052 non-null int64\n",
        "discharge_disposition_id    98052 non-null int64\n",
        "admission_source_id         98052 non-null int64\n",
        "diag_1                      98052 non-null int64\n",
        "diag_2                      98052 non-null int64\n",
        "diag_3                      98052 non-null int64\n",
        "max_glu_serum               98052 non-null int64\n",
        "A1Cresult                   98052 non-null int64\n",
        "metformin                   98052 non-null int64\n",
        "repaglinide                 98052 non-null int64\n",
        "nateglinide                 98052 non-null int64\n",
        "chlorpropamide              98052 non-null int64\n",
        "glimepiride                 98052 non-null int64\n",
        "acetohexamide               98052 non-null int64\n",
        "glipizide                   98052 non-null int64\n",
        "glyburide                   98052 non-null int64\n",
        "tolbutamide                 98052 non-null int64\n",
        "pioglitazone                98052 non-null int64\n",
        "rosiglitazone               98052 non-null int64\n",
        "acarbose                    98052 non-null int64\n",
        "miglitol                    98052 non-null int64\n",
        "troglitazone                98052 non-null int64\n",
        "tolazamide                  98052 non-null int64\n",
        "insulin                     98052 non-null int64\n",
        "glyburide-metformin         98052 non-null int64\n",
        "glipizide-metformin         98052 non-null int64\n",
        "glimepiride-pioglitazone    98052 non-null int64\n",
        "metformin-rosiglitazone     98052 non-null int64\n",
        "metformin-pioglitazone      98052 non-null int64\n",
        "change                      98052 non-null int64\n",
        "diabetesMed                 98052 non-null int64\n",
        "readmitted_dummy            98052 non-null int64\n",
        "A1                          98052 non-null int64\n",
        "A2                          98052 non-null int64\n",
        "A3                          98052 non-null int64\n",
        "A4                          98052 non-null int64\n",
        "A5                          98052 non-null int64\n",
        "A6                          98052 non-null int64\n",
        "A7                          98052 non-null int64\n",
        "A8                          98052 non-null int64\n",
        "dtypes: int64(43)\n",
        "memory usage: 32.2 MB\n"
       ]
      }
     ],
     "prompt_number": 123
    },
    {
     "cell_type": "code",
     "collapsed": false,
     "input": [
      "for i in range(0,35,1):\n",
      "    df_final[df_final.columns[i]] = df_final[df_final.columns[i]].astype('|S')"
     ],
     "language": "python",
     "metadata": {},
     "outputs": [],
     "prompt_number": 124
    },
    {
     "cell_type": "code",
     "collapsed": false,
     "input": [
      "df_final.info()"
     ],
     "language": "python",
     "metadata": {},
     "outputs": [
      {
       "output_type": "stream",
       "stream": "stdout",
       "text": [
        "<class 'pandas.core.frame.DataFrame'>\n",
        "RangeIndex: 98052 entries, 0 to 98051\n",
        "Data columns (total 43 columns):\n",
        "race                        98052 non-null object\n",
        "gender                      98052 non-null object\n",
        "age                         98052 non-null object\n",
        "admission_type_id           98052 non-null object\n",
        "discharge_disposition_id    98052 non-null object\n",
        "admission_source_id         98052 non-null object\n",
        "diag_1                      98052 non-null object\n",
        "diag_2                      98052 non-null object\n",
        "diag_3                      98052 non-null object\n",
        "max_glu_serum               98052 non-null object\n",
        "A1Cresult                   98052 non-null object\n",
        "metformin                   98052 non-null object\n",
        "repaglinide                 98052 non-null object\n",
        "nateglinide                 98052 non-null object\n",
        "chlorpropamide              98052 non-null object\n",
        "glimepiride                 98052 non-null object\n",
        "acetohexamide               98052 non-null object\n",
        "glipizide                   98052 non-null object\n",
        "glyburide                   98052 non-null object\n",
        "tolbutamide                 98052 non-null object\n",
        "pioglitazone                98052 non-null object\n",
        "rosiglitazone               98052 non-null object\n",
        "acarbose                    98052 non-null object\n",
        "miglitol                    98052 non-null object\n",
        "troglitazone                98052 non-null object\n",
        "tolazamide                  98052 non-null object\n",
        "insulin                     98052 non-null object\n",
        "glyburide-metformin         98052 non-null object\n",
        "glipizide-metformin         98052 non-null object\n",
        "glimepiride-pioglitazone    98052 non-null object\n",
        "metformin-rosiglitazone     98052 non-null object\n",
        "metformin-pioglitazone      98052 non-null object\n",
        "change                      98052 non-null object\n",
        "diabetesMed                 98052 non-null object\n",
        "readmitted_dummy            98052 non-null object\n",
        "A1                          98052 non-null int64\n",
        "A2                          98052 non-null int64\n",
        "A3                          98052 non-null int64\n",
        "A4                          98052 non-null int64\n",
        "A5                          98052 non-null int64\n",
        "A6                          98052 non-null int64\n",
        "A7                          98052 non-null int64\n",
        "A8                          98052 non-null int64\n",
        "dtypes: int64(8), object(35)\n",
        "memory usage: 32.2+ MB\n"
       ]
      }
     ],
     "prompt_number": 12
    },
    {
     "cell_type": "markdown",
     "metadata": {},
     "source": [
      "Models on Entire Data Predicting Testing Data"
     ]
    },
    {
     "cell_type": "code",
     "collapsed": false,
     "input": [
      "y = df_raw['readmitted_dummy']\n",
      "x = df_raw.drop(['readmitted_dummy'], axis=1)\n",
      "x = pd.get_dummies(x)\n",
      "y = pd.get_dummies(y)\n",
      "X_train, X_test, y_train, y_test = train_test_split(x, y, test_size=0.2, random_state=2)"
     ],
     "language": "python",
     "metadata": {},
     "outputs": [],
     "prompt_number": 202
    },
    {
     "cell_type": "code",
     "collapsed": false,
     "input": [
      "from sklearn.tree import DecisionTreeClassifier\n",
      "dt = DecisionTreeClassifier(max_depth=20,criterion='entropy',min_samples_split=10)\n",
      "dt.fit(x,y)\n",
      "y_predict = dt.predict(X_test)\n",
      "print(\"Decision Tree Accuracy is {0:.2f}\".format(accuracy_score(y_test, y_predict)))"
     ],
     "language": "python",
     "metadata": {},
     "outputs": [
      {
       "output_type": "stream",
       "stream": "stdout",
       "text": [
        "Decision Tree Accuracy is 0.54\n"
       ]
      }
     ],
     "prompt_number": 204
    },
    {
     "cell_type": "code",
     "collapsed": false,
     "input": [
      "from sklearn.ensemble import RandomForestClassifier\n",
      "rnf = RandomForestClassifier(max_depth=3, random_state=0)\n",
      "rnf.fit(x,y)\n",
      "y_predict = rnf.predict(X_test)\n",
      "print(\"Random Forest Classifier Accuracy is {0:.2f}\".format(accuracy_score(y_test, y_predict)))"
     ],
     "language": "python",
     "metadata": {},
     "outputs": [
      {
       "output_type": "stream",
       "stream": "stdout",
       "text": [
        "Random Forest Classifier Accuracy is 0.52\n"
       ]
      }
     ],
     "prompt_number": 205
    },
    {
     "cell_type": "code",
     "collapsed": false,
     "input": [
      "from sklearn.linear_model import LogisticRegression\n",
      "lg = LogisticRegression()\n",
      "lg.fit(df_final.drop(['readmitted_dummy'], axis=1),df_final['readmitted_dummy'])\n",
      "y_predict = lg.predict(df_final.drop(['readmitted_dummy'], axis=1))\n",
      "print(\"Logistic Regression is {0:.2f}\".format(accuracy_score(df_final['readmitted_dummy'], y_predict)))\n",
      "col1 = np.array(df_final.drop(['readmitted_dummy'],axis=1).columns)\n",
      "var_logit = pd.DataFrame(col1, np.array(lg.coef_[0]))\n",
      "array1 = np.array(col1)\n",
      "array2 = np.array(var_logit.index)\n",
      "d = {'Name': array1, 'Coef': array2}\n",
      "df_coeff = pd.DataFrame(d)\n",
      "df_coeff = df_coeff.sort_values(by=['Coef'])\n",
      "df_coeff"
     ],
     "language": "python",
     "metadata": {},
     "outputs": [
      {
       "output_type": "stream",
       "stream": "stdout",
       "text": [
        "Logistic Regression is 0.62\n"
       ]
      },
      {
       "html": [
        "<div style=\"max-width:1500px;overflow:auto;\">\n",
        "<style>\n",
        "    .dataframe thead tr:only-child th {\n",
        "        text-align: right;\n",
        "    }\n",
        "\n",
        "    .dataframe thead th {\n",
        "        text-align: left;\n",
        "    }\n",
        "\n",
        "    .dataframe tbody tr th {\n",
        "        vertical-align: top;\n",
        "    }\n",
        "</style>\n",
        "<table border=\"1\" class=\"dataframe\">\n",
        "  <thead>\n",
        "    <tr style=\"text-align: right;\">\n",
        "      <th></th>\n",
        "      <th>Coef</th>\n",
        "      <th>Name</th>\n",
        "    </tr>\n",
        "  </thead>\n",
        "  <tbody>\n",
        "    <tr>\n",
        "      <th>19</th>\n",
        "      <td>-0.425279</td>\n",
        "      <td>tolbutamide</td>\n",
        "    </tr>\n",
        "    <tr>\n",
        "      <th>5</th>\n",
        "      <td>-0.289058</td>\n",
        "      <td>admission_source_id</td>\n",
        "    </tr>\n",
        "    <tr>\n",
        "      <th>4</th>\n",
        "      <td>-0.108245</td>\n",
        "      <td>discharge_disposition_id</td>\n",
        "    </tr>\n",
        "    <tr>\n",
        "      <th>25</th>\n",
        "      <td>-0.105454</td>\n",
        "      <td>tolazamide</td>\n",
        "    </tr>\n",
        "    <tr>\n",
        "      <th>11</th>\n",
        "      <td>-0.099508</td>\n",
        "      <td>metformin</td>\n",
        "    </tr>\n",
        "    <tr>\n",
        "      <th>31</th>\n",
        "      <td>-0.090265</td>\n",
        "      <td>metformin-pioglitazone</td>\n",
        "    </tr>\n",
        "    <tr>\n",
        "      <th>36</th>\n",
        "      <td>-0.059694</td>\n",
        "      <td>A3</td>\n",
        "    </tr>\n",
        "    <tr>\n",
        "      <th>0</th>\n",
        "      <td>-0.058309</td>\n",
        "      <td>race</td>\n",
        "    </tr>\n",
        "    <tr>\n",
        "      <th>2</th>\n",
        "      <td>-0.054450</td>\n",
        "      <td>age</td>\n",
        "    </tr>\n",
        "    <tr>\n",
        "      <th>6</th>\n",
        "      <td>-0.050492</td>\n",
        "      <td>diag_1</td>\n",
        "    </tr>\n",
        "    <tr>\n",
        "      <th>10</th>\n",
        "      <td>-0.034887</td>\n",
        "      <td>A1Cresult</td>\n",
        "    </tr>\n",
        "    <tr>\n",
        "      <th>15</th>\n",
        "      <td>-0.018491</td>\n",
        "      <td>glimepiride</td>\n",
        "    </tr>\n",
        "    <tr>\n",
        "      <th>7</th>\n",
        "      <td>-0.018216</td>\n",
        "      <td>diag_2</td>\n",
        "    </tr>\n",
        "    <tr>\n",
        "      <th>37</th>\n",
        "      <td>-0.001079</td>\n",
        "      <td>A4</td>\n",
        "    </tr>\n",
        "    <tr>\n",
        "      <th>30</th>\n",
        "      <td>0.000000</td>\n",
        "      <td>metformin-rosiglitazone</td>\n",
        "    </tr>\n",
        "    <tr>\n",
        "      <th>35</th>\n",
        "      <td>0.001762</td>\n",
        "      <td>A2</td>\n",
        "    </tr>\n",
        "    <tr>\n",
        "      <th>18</th>\n",
        "      <td>0.006736</td>\n",
        "      <td>glyburide</td>\n",
        "    </tr>\n",
        "    <tr>\n",
        "      <th>26</th>\n",
        "      <td>0.012041</td>\n",
        "      <td>insulin</td>\n",
        "    </tr>\n",
        "    <tr>\n",
        "      <th>32</th>\n",
        "      <td>0.013845</td>\n",
        "      <td>change</td>\n",
        "    </tr>\n",
        "    <tr>\n",
        "      <th>13</th>\n",
        "      <td>0.017034</td>\n",
        "      <td>nateglinide</td>\n",
        "    </tr>\n",
        "    <tr>\n",
        "      <th>8</th>\n",
        "      <td>0.022406</td>\n",
        "      <td>diag_3</td>\n",
        "    </tr>\n",
        "    <tr>\n",
        "      <th>34</th>\n",
        "      <td>0.025674</td>\n",
        "      <td>A1</td>\n",
        "    </tr>\n",
        "    <tr>\n",
        "      <th>27</th>\n",
        "      <td>0.030396</td>\n",
        "      <td>glyburide-metformin</td>\n",
        "    </tr>\n",
        "    <tr>\n",
        "      <th>9</th>\n",
        "      <td>0.043628</td>\n",
        "      <td>max_glu_serum</td>\n",
        "    </tr>\n",
        "    <tr>\n",
        "      <th>21</th>\n",
        "      <td>0.055604</td>\n",
        "      <td>rosiglitazone</td>\n",
        "    </tr>\n",
        "    <tr>\n",
        "      <th>20</th>\n",
        "      <td>0.061812</td>\n",
        "      <td>pioglitazone</td>\n",
        "    </tr>\n",
        "    <tr>\n",
        "      <th>17</th>\n",
        "      <td>0.064814</td>\n",
        "      <td>glipizide</td>\n",
        "    </tr>\n",
        "    <tr>\n",
        "      <th>1</th>\n",
        "      <td>0.070589</td>\n",
        "      <td>gender</td>\n",
        "    </tr>\n",
        "    <tr>\n",
        "      <th>41</th>\n",
        "      <td>0.072522</td>\n",
        "      <td>A8</td>\n",
        "    </tr>\n",
        "    <tr>\n",
        "      <th>38</th>\n",
        "      <td>0.075934</td>\n",
        "      <td>A5</td>\n",
        "    </tr>\n",
        "    <tr>\n",
        "      <th>12</th>\n",
        "      <td>0.077091</td>\n",
        "      <td>repaglinide</td>\n",
        "    </tr>\n",
        "    <tr>\n",
        "      <th>3</th>\n",
        "      <td>0.097406</td>\n",
        "      <td>admission_type_id</td>\n",
        "    </tr>\n",
        "    <tr>\n",
        "      <th>29</th>\n",
        "      <td>0.107800</td>\n",
        "      <td>glimepiride-pioglitazone</td>\n",
        "    </tr>\n",
        "    <tr>\n",
        "      <th>16</th>\n",
        "      <td>0.136498</td>\n",
        "      <td>acetohexamide</td>\n",
        "    </tr>\n",
        "    <tr>\n",
        "      <th>24</th>\n",
        "      <td>0.152260</td>\n",
        "      <td>troglitazone</td>\n",
        "    </tr>\n",
        "    <tr>\n",
        "      <th>14</th>\n",
        "      <td>0.166831</td>\n",
        "      <td>chlorpropamide</td>\n",
        "    </tr>\n",
        "    <tr>\n",
        "      <th>39</th>\n",
        "      <td>0.223077</td>\n",
        "      <td>A6</td>\n",
        "    </tr>\n",
        "    <tr>\n",
        "      <th>33</th>\n",
        "      <td>0.228379</td>\n",
        "      <td>diabetesMed</td>\n",
        "    </tr>\n",
        "    <tr>\n",
        "      <th>22</th>\n",
        "      <td>0.340226</td>\n",
        "      <td>acarbose</td>\n",
        "    </tr>\n",
        "    <tr>\n",
        "      <th>40</th>\n",
        "      <td>0.365648</td>\n",
        "      <td>A7</td>\n",
        "    </tr>\n",
        "    <tr>\n",
        "      <th>28</th>\n",
        "      <td>0.394914</td>\n",
        "      <td>glipizide-metformin</td>\n",
        "    </tr>\n",
        "    <tr>\n",
        "      <th>23</th>\n",
        "      <td>0.452528</td>\n",
        "      <td>miglitol</td>\n",
        "    </tr>\n",
        "  </tbody>\n",
        "</table>\n",
        "</div>"
       ],
       "metadata": {},
       "output_type": "pyout",
       "prompt_number": 206,
       "text": [
        "        Coef                      Name\n",
        "19 -0.425279               tolbutamide\n",
        "5  -0.289058       admission_source_id\n",
        "4  -0.108245  discharge_disposition_id\n",
        "25 -0.105454                tolazamide\n",
        "11 -0.099508                 metformin\n",
        "31 -0.090265    metformin-pioglitazone\n",
        "36 -0.059694                        A3\n",
        "0  -0.058309                      race\n",
        "2  -0.054450                       age\n",
        "6  -0.050492                    diag_1\n",
        "10 -0.034887                 A1Cresult\n",
        "15 -0.018491               glimepiride\n",
        "7  -0.018216                    diag_2\n",
        "37 -0.001079                        A4\n",
        "30  0.000000   metformin-rosiglitazone\n",
        "35  0.001762                        A2\n",
        "18  0.006736                 glyburide\n",
        "26  0.012041                   insulin\n",
        "32  0.013845                    change\n",
        "13  0.017034               nateglinide\n",
        "8   0.022406                    diag_3\n",
        "34  0.025674                        A1\n",
        "27  0.030396       glyburide-metformin\n",
        "9   0.043628             max_glu_serum\n",
        "21  0.055604             rosiglitazone\n",
        "20  0.061812              pioglitazone\n",
        "17  0.064814                 glipizide\n",
        "1   0.070589                    gender\n",
        "41  0.072522                        A8\n",
        "38  0.075934                        A5\n",
        "12  0.077091               repaglinide\n",
        "3   0.097406         admission_type_id\n",
        "29  0.107800  glimepiride-pioglitazone\n",
        "16  0.136498             acetohexamide\n",
        "24  0.152260              troglitazone\n",
        "14  0.166831            chlorpropamide\n",
        "39  0.223077                        A6\n",
        "33  0.228379               diabetesMed\n",
        "22  0.340226                  acarbose\n",
        "40  0.365648                        A7\n",
        "28  0.394914       glipizide-metformin\n",
        "23  0.452528                  miglitol"
       ]
      }
     ],
     "prompt_number": 206
    },
    {
     "cell_type": "code",
     "collapsed": false,
     "input": [
      "from sklearn.ensemble import BaggingClassifier\n",
      "bg = BaggingClassifier()\n",
      "bg.fit(df_final.drop(['readmitted_dummy'], axis=1),df_final['readmitted_dummy'])\n",
      "y_predict = bg.predict(df_final.drop(['readmitted_dummy'], axis=1))\n",
      "print(\"Bagging Accuracy is {0:.2f}\".format(accuracy_score(df_final['readmitted_dummy'], y_predict)))"
     ],
     "language": "python",
     "metadata": {},
     "outputs": [
      {
       "output_type": "stream",
       "stream": "stdout",
       "text": [
        "Bagging Accuracy is 0.98\n"
       ]
      }
     ],
     "prompt_number": 207
    },
    {
     "cell_type": "code",
     "collapsed": false,
     "input": [
      "from sklearn.ensemble import GradientBoostingClassifier\n",
      "gbc = GradientBoostingClassifier()\n",
      "gbc.fit(df_final.drop(['readmitted_dummy'], axis=1),df_final['readmitted_dummy'])\n",
      "y_predict = gbc.predict(df_final.drop(['readmitted_dummy'], axis=1))\n",
      "print(\"Gradiant Boosting Accuracy is {0:.2f}\".format(accuracy_score(df_final['readmitted_dummy'], y_predict)))"
     ],
     "language": "python",
     "metadata": {},
     "outputs": [
      {
       "output_type": "stream",
       "stream": "stdout",
       "text": [
        "Gradiant Boosting Accuracy is 0.63\n"
       ]
      }
     ],
     "prompt_number": 208
    },
    {
     "cell_type": "code",
     "collapsed": false,
     "input": [
      "from sklearn.linear_model import Perceptron\n",
      "prc = Perceptron()\n",
      "prc.fit(df_final.drop(['readmitted_dummy'], axis=1),df_final['readmitted_dummy'])\n",
      "y_predict = prc.predict(df_final.drop(['readmitted_dummy'], axis=1))\n",
      "print(\"Perceptron Accuracy is {0:.2f}\".format(accuracy_score(df_final['readmitted_dummy'], y_predict)))"
     ],
     "language": "python",
     "metadata": {},
     "outputs": [
      {
       "output_type": "stream",
       "stream": "stdout",
       "text": [
        "Perceptron Accuracy is 0.57\n"
       ]
      }
     ],
     "prompt_number": 209
    },
    {
     "cell_type": "code",
     "collapsed": false,
     "input": [
      "from sklearn.naive_bayes import GaussianNB\n",
      "gnb = GaussianNB()\n",
      "gnb.fit(df_final.drop(['readmitted_dummy'], axis=1),df_final['readmitted_dummy'])\n",
      "y_predict = gnb.predict(df_final.drop(['readmitted_dummy'], axis=1))\n",
      "print(\"Gaussian Naive Bayes Accuracy is {0:.2f}\".format(accuracy_score(df_final['readmitted_dummy'], y_predict)))"
     ],
     "language": "python",
     "metadata": {},
     "outputs": [
      {
       "output_type": "stream",
       "stream": "stdout",
       "text": [
        "Gaussian Naive Bayes Accuracy is 0.57\n"
       ]
      }
     ],
     "prompt_number": 211
    },
    {
     "cell_type": "markdown",
     "metadata": {},
     "source": [
      "With Train and Test Data"
     ]
    },
    {
     "cell_type": "code",
     "collapsed": false,
     "input": [
      "y = df_final['readmitted_dummy']\n",
      "x = df_final.drop(['readmitted_dummy'], axis=1)\n",
      "X_train, X_test, y_train, y_test = train_test_split(x, y, test_size=0.2, random_state=2)"
     ],
     "language": "python",
     "metadata": {},
     "outputs": [],
     "prompt_number": 212
    },
    {
     "cell_type": "code",
     "collapsed": false,
     "input": [
      "from sklearn.tree import DecisionTreeClassifier\n",
      "dt = DecisionTreeClassifier(max_depth=20,criterion='entropy',min_samples_split=10)\n",
      "dt.fit(X_train,y_train)\n",
      "y_predict = dt.predict(X_test)\n",
      "print(\"Decision Tree Accuracy is {0:.2f}\".format(accuracy_score(y_test, y_predict)))"
     ],
     "language": "python",
     "metadata": {},
     "outputs": [
      {
       "output_type": "stream",
       "stream": "stdout",
       "text": [
        "Decision Tree Accuracy is 0.57\n"
       ]
      }
     ],
     "prompt_number": 215
    },
    {
     "cell_type": "code",
     "collapsed": false,
     "input": [
      "from sklearn.ensemble import RandomForestClassifier\n",
      "rnf = RandomForestClassifier(max_depth=3, random_state=0)\n",
      "rnf.fit(X_train,y_train)\n",
      "y_predict = rnf.predict(X_test)\n",
      "print(\"Random Forest Accuracy is {0:.2f}\".format(accuracy_score(y_test, y_predict)))"
     ],
     "language": "python",
     "metadata": {},
     "outputs": [
      {
       "output_type": "stream",
       "stream": "stdout",
       "text": [
        "Random Forest Accuracy is 0.61\n"
       ]
      }
     ],
     "prompt_number": 216
    },
    {
     "cell_type": "code",
     "collapsed": false,
     "input": [
      "bg.fit(X_train,y_train)\n",
      "y_predict = bg.predict(X_test)\n",
      "print(\"Bagging Accuracy is {0:.2f}\".format(accuracy_score(y_test, y_predict)))"
     ],
     "language": "python",
     "metadata": {},
     "outputs": [
      {
       "output_type": "stream",
       "stream": "stdout",
       "text": [
        "Bagging Accuracy is 0.59\n"
       ]
      }
     ],
     "prompt_number": 217
    },
    {
     "cell_type": "code",
     "collapsed": false,
     "input": [
      "gbc.fit(X_train,y_train)\n",
      "y_predict = gbc.predict(X_test)\n",
      "print(\"Gradient Boosting Accuracy is {0:.2f}\".format(accuracy_score(y_test, y_predict)))"
     ],
     "language": "python",
     "metadata": {},
     "outputs": [
      {
       "output_type": "stream",
       "stream": "stdout",
       "text": [
        "Gradient Boosting Accuracy is 0.63\n"
       ]
      }
     ],
     "prompt_number": 218
    },
    {
     "cell_type": "code",
     "collapsed": false,
     "input": [
      "from sklearn.neural_network import MLPClassifier\n",
      "mlp = MLPClassifier()\n",
      "mlp.fit(X_train,y_train)\n",
      "y_predict = mlp.predict(X_test)\n",
      "print(\"MLP Accuracy is {0:.2f}\".format(accuracy_score(y_test, y_predict)))"
     ],
     "language": "python",
     "metadata": {},
     "outputs": [
      {
       "output_type": "stream",
       "stream": "stdout",
       "text": [
        "MLP Accuracy is 0.61\n"
       ]
      }
     ],
     "prompt_number": 219
    },
    {
     "cell_type": "code",
     "collapsed": false,
     "input": [
      "mlp.get_params"
     ],
     "language": "python",
     "metadata": {},
     "outputs": [
      {
       "metadata": {},
       "output_type": "pyout",
       "prompt_number": 221,
       "text": [
        "<bound method MLPClassifier.get_params of MLPClassifier(activation='relu', alpha=0.0001, batch_size='auto', beta_1=0.9,\n",
        "       beta_2=0.999, early_stopping=False, epsilon=1e-08,\n",
        "       hidden_layer_sizes=(100,), learning_rate='constant',\n",
        "       learning_rate_init=0.001, max_iter=200, momentum=0.9,\n",
        "       nesterovs_momentum=True, power_t=0.5, random_state=None,\n",
        "       shuffle=True, solver='adam', tol=0.0001, validation_fraction=0.1,\n",
        "       verbose=False, warm_start=False)>"
       ]
      }
     ],
     "prompt_number": 221
    }
   ],
   "metadata": {}
  }
 ]
}
